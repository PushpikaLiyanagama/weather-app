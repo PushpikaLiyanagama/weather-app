{
  "cells": [
    {
      "cell_type": "code",
      "execution_count": 1,
      "metadata": {
        "colab": {
          "base_uri": "https://localhost:8080/",
          "height": 206
        },
        "id": "CPu_0QkE6KHx",
        "outputId": "a655eefe-b7f4-411b-c783-8dc6f9232a9e"
      },
      "outputs": [
        {
          "name": "stderr",
          "output_type": "stream",
          "text": [
            "<>:4: SyntaxWarning: invalid escape sequence '\\F'\n",
            "<>:4: SyntaxWarning: invalid escape sequence '\\F'\n",
            "C:\\Users\\ACER\\AppData\\Local\\Temp\\ipykernel_16168\\3080842326.py:4: SyntaxWarning: invalid escape sequence '\\F'\n",
            "  file_path = 'F:\\Flask Projects\\Weather reporting app new\\weather.csv'\n"
          ]
        },
        {
          "data": {
            "text/html": [
              "<div>\n",
              "<style scoped>\n",
              "    .dataframe tbody tr th:only-of-type {\n",
              "        vertical-align: middle;\n",
              "    }\n",
              "\n",
              "    .dataframe tbody tr th {\n",
              "        vertical-align: top;\n",
              "    }\n",
              "\n",
              "    .dataframe thead th {\n",
              "        text-align: right;\n",
              "    }\n",
              "</style>\n",
              "<table border=\"1\" class=\"dataframe\">\n",
              "  <thead>\n",
              "    <tr style=\"text-align: right;\">\n",
              "      <th></th>\n",
              "      <th>Temperature_C</th>\n",
              "      <th>Humidity_pct</th>\n",
              "      <th>Weather</th>\n",
              "    </tr>\n",
              "  </thead>\n",
              "  <tbody>\n",
              "    <tr>\n",
              "      <th>0</th>\n",
              "      <td>10.683001</td>\n",
              "      <td>41.195754</td>\n",
              "      <td>drizzle</td>\n",
              "    </tr>\n",
              "    <tr>\n",
              "      <th>1</th>\n",
              "      <td>8.734140</td>\n",
              "      <td>58.319107</td>\n",
              "      <td>rain</td>\n",
              "    </tr>\n",
              "    <tr>\n",
              "      <th>2</th>\n",
              "      <td>11.632436</td>\n",
              "      <td>38.820175</td>\n",
              "      <td>rain</td>\n",
              "    </tr>\n",
              "    <tr>\n",
              "      <th>3</th>\n",
              "      <td>-8.628976</td>\n",
              "      <td>54.074474</td>\n",
              "      <td>rain</td>\n",
              "    </tr>\n",
              "    <tr>\n",
              "      <th>4</th>\n",
              "      <td>39.808213</td>\n",
              "      <td>72.899908</td>\n",
              "      <td>rain</td>\n",
              "    </tr>\n",
              "  </tbody>\n",
              "</table>\n",
              "</div>"
            ],
            "text/plain": [
              "   Temperature_C  Humidity_pct  Weather\n",
              "0      10.683001     41.195754  drizzle\n",
              "1       8.734140     58.319107     rain\n",
              "2      11.632436     38.820175     rain\n",
              "3      -8.628976     54.074474     rain\n",
              "4      39.808213     72.899908     rain"
            ]
          },
          "execution_count": 1,
          "metadata": {},
          "output_type": "execute_result"
        }
      ],
      "source": [
        "import pandas as pd\n",
        "\n",
        "\n",
        "file_path = 'F:\\Flask Projects\\Weather reporting app new\\weather.csv'\n",
        "weather_data = pd.read_csv(file_path)\n",
        "\n",
        "weather_data.head()\n"
      ]
    },
    {
      "cell_type": "code",
      "execution_count": 2,
      "metadata": {
        "colab": {
          "base_uri": "https://localhost:8080/"
        },
        "id": "mmd2wZJp6M6W",
        "outputId": "bd42391b-d551-4f86-8816-5716d7c4cdd5"
      },
      "outputs": [
        {
          "data": {
            "text/plain": [
              "{'drizzle': 0, 'fog': 1, 'rain': 2, 'snow': 3, 'sun': 4}"
            ]
          },
          "execution_count": 2,
          "metadata": {},
          "output_type": "execute_result"
        }
      ],
      "source": [
        "from sklearn.model_selection import train_test_split\n",
        "from sklearn.preprocessing import LabelEncoder\n",
        "\n",
        "label_encoder = LabelEncoder()\n",
        "weather_data['Weather_Encoded'] = label_encoder.fit_transform(weather_data['Weather'])\n",
        "\n",
        "# Features (X) and Target (y)\n",
        "X = weather_data[['Temperature_C', 'Humidity_pct']]\n",
        "y = weather_data['Weather_Encoded']\n",
        "\n",
        "# Split the data into training and testing sets (80% train, 20% test)\n",
        "X_train, X_test, y_train, y_test = train_test_split(X, y, test_size=0.2, random_state=42)\n",
        "\n",
        "# Show the unique weather conditions and their encoded values\n",
        "weather_conditions_mapping = dict(zip(label_encoder.classes_, label_encoder.transform(label_encoder.classes_)))\n",
        "weather_conditions_mapping\n"
      ]
    },
    {
      "cell_type": "code",
      "execution_count": 3,
      "metadata": {
        "colab": {
          "base_uri": "https://localhost:8080/"
        },
        "id": "bJXAG9h46M24",
        "outputId": "187df077-2122-47c9-e5bb-ad8b6fbfae10"
      },
      "outputs": [
        {
          "data": {
            "text/plain": [
              "(0.41638225255972694,\n",
              " '              precision    recall  f1-score   support\\n\\n     drizzle       0.00      0.00      0.00         9\\n         fog       0.00      0.00      0.00        25\\n        rain       0.40      0.50      0.45       120\\n        snow       0.00      0.00      0.00         8\\n         sun       0.46      0.47      0.47       131\\n\\n    accuracy                           0.42       293\\n   macro avg       0.17      0.19      0.18       293\\nweighted avg       0.37      0.42      0.39       293\\n')"
            ]
          },
          "execution_count": 3,
          "metadata": {},
          "output_type": "execute_result"
        }
      ],
      "source": [
        "from sklearn.ensemble import RandomForestClassifier\n",
        "from sklearn.metrics import classification_report, accuracy_score\n",
        "\n",
        "# Initialize the Random Forest classifier\n",
        "rf_classifier = RandomForestClassifier(random_state=42)\n",
        "\n",
        "# Train the model\n",
        "rf_classifier.fit(X_train, y_train)\n",
        "\n",
        "# Predict on the test set\n",
        "y_pred = rf_classifier.predict(X_test)\n",
        "\n",
        "# Evaluate the model\n",
        "accuracy = accuracy_score(y_test, y_pred)\n",
        "classification_report_output = classification_report(y_test, y_pred, target_names=label_encoder.classes_)\n",
        "\n",
        "accuracy, classification_report_output\n"
      ]
    },
    {
      "cell_type": "code",
      "execution_count": 4,
      "metadata": {},
      "outputs": [
        {
          "data": {
            "text/plain": [
              "(0.41638225255972694,\n",
              "               precision    recall  f1-score     support\n",
              " drizzle        0.000000  0.000000  0.000000    9.000000\n",
              " fog            0.000000  0.000000  0.000000   25.000000\n",
              " rain           0.402685  0.500000  0.446097  120.000000\n",
              " snow           0.000000  0.000000  0.000000    8.000000\n",
              " sun            0.459259  0.473282  0.466165  131.000000\n",
              " accuracy       0.416382  0.416382  0.416382    0.416382\n",
              " macro avg      0.172389  0.194656  0.182452  293.000000\n",
              " weighted avg   0.370256  0.416382  0.391124  293.000000)"
            ]
          },
          "execution_count": 4,
          "metadata": {},
          "output_type": "execute_result"
        }
      ],
      "source": [
        "from sklearn.metrics import classification_report, accuracy_score\n",
        "\n",
        "# Initialize the Random Forest classifier\n",
        "rf_classifier = RandomForestClassifier(random_state=42)\n",
        "\n",
        "# Train the model\n",
        "rf_classifier.fit(X_train, y_train)\n",
        "\n",
        "# Predict on the test set\n",
        "y_pred = rf_classifier.predict(X_test)\n",
        "\n",
        "# Evaluate the model\n",
        "accuracy = accuracy_score(y_test, y_pred)\n",
        "classification_report_dict = classification_report(y_test, y_pred, target_names=label_encoder.classes_, output_dict=True)\n",
        "\n",
        "# Convert the classification report to a DataFrame\n",
        "classification_report_df = pd.DataFrame(classification_report_dict).transpose()\n",
        "\n",
        "# Display the DataFrame\n",
        "accuracy, classification_report_df\n"
      ]
    },
    {
      "cell_type": "code",
      "execution_count": 5,
      "metadata": {
        "colab": {
          "base_uri": "https://localhost:8080/",
          "height": 90
        },
        "id": "mgU6pvb66M0f",
        "outputId": "2b83c4a1-1b33-40e3-de54-2fa30499bfac"
      },
      "outputs": [
        {
          "name": "stderr",
          "output_type": "stream",
          "text": [
            "C:\\Users\\ACER\\AppData\\Roaming\\Python\\Python312\\site-packages\\sklearn\\base.py:493: UserWarning: X does not have valid feature names, but RandomForestClassifier was fitted with feature names\n",
            "  warnings.warn(\n"
          ]
        },
        {
          "data": {
            "text/plain": [
              "'rain'"
            ]
          },
          "execution_count": 5,
          "metadata": {},
          "output_type": "execute_result"
        }
      ],
      "source": [
        "import numpy as np\n",
        "\n",
        "# Function to predict weather condition based on input temperature and humidity\n",
        "def predict_weather(input_data):\n",
        "    # Predict the encoded weather condition\n",
        "    encoded_prediction = rf_classifier.predict(input_data)\n",
        "\n",
        "    # Decode the prediction back to the weather condition name\n",
        "    predicted_weather = label_encoder.inverse_transform(encoded_prediction)\n",
        "\n",
        "    return predicted_weather[0]\n",
        "\n",
        "# Example input: [[Temperature_C, Humidity_pct]]\n",
        "inPut = np.array([[26,10]])\n",
        "\n",
        "# Predict the weather condition\n",
        "predicted_weather_condition = predict_weather(inPut)\n",
        "predicted_weather_condition\n"
      ]
    },
    {
      "cell_type": "code",
      "execution_count": 6,
      "metadata": {
        "colab": {
          "base_uri": "https://localhost:8080/"
        },
        "id": "CJWnlDel6MyF",
        "outputId": "7aac77a3-641c-48ab-8f1c-3e4536626faa"
      },
      "outputs": [
        {
          "name": "stdout",
          "output_type": "stream",
          "text": [
            "rain\n"
          ]
        },
        {
          "name": "stderr",
          "output_type": "stream",
          "text": [
            "C:\\Users\\ACER\\AppData\\Roaming\\Python\\Python312\\site-packages\\sklearn\\base.py:493: UserWarning: X does not have valid feature names, but RandomForestClassifier was fitted with feature names\n",
            "  warnings.warn(\n"
          ]
        }
      ],
      "source": [
        "import pickle\n",
        "\n",
        "# Assuming rf_classifier is your trained model and label_encoder is the encoder\n",
        "\n",
        "# Save the trained model to a .pkl file\n",
        "pickle.dump(rf_classifier, open('finalModel.pkl', 'wb'))\n",
        "\n",
        "# Save the label encoder to a separate .pkl file\n",
        "pickle.dump(label_encoder, open('finalEncoder.pkl', 'wb'))\n",
        "\n",
        "# Load the model and encoder later if needed\n",
        "loaded_model = pickle.load(open('finalModel.pkl', 'rb'))\n",
        "loaded_encoder = pickle.load(open('finalEncoder.pkl', 'rb'))\n",
        "\n",
        "# Example prediction using the loaded model and encoder\n",
        "input_data = np.array([[12.41593436, 72.51487328]])\n",
        "encoded_prediction = loaded_model.predict(input_data)\n",
        "predicted_weather_condition = loaded_encoder.inverse_transform(encoded_prediction)\n",
        "\n",
        "print(predicted_weather_condition[0])\n"
      ]
    },
    {
      "cell_type": "code",
      "execution_count": 7,
      "metadata": {
        "colab": {
          "base_uri": "https://localhost:8080/"
        },
        "id": "LkCySRFL6Mvs",
        "outputId": "dc5119a6-2d23-4f1f-f38a-3ddd74adb40e"
      },
      "outputs": [
        {
          "name": "stdout",
          "output_type": "stream",
          "text": [
            "1.5.0\n"
          ]
        }
      ],
      "source": [
        "import sklearn\n",
        "print(sklearn.__version__)\n"
      ]
    },
    {
      "cell_type": "code",
      "execution_count": null,
      "metadata": {
        "id": "a4aSi_Jp6MtU"
      },
      "outputs": [],
      "source": []
    },
    {
      "cell_type": "code",
      "execution_count": null,
      "metadata": {
        "id": "pDwYWdSC6Mqx"
      },
      "outputs": [],
      "source": []
    },
    {
      "cell_type": "code",
      "execution_count": null,
      "metadata": {
        "id": "JGUszdYK6Moc"
      },
      "outputs": [],
      "source": []
    },
    {
      "cell_type": "code",
      "execution_count": null,
      "metadata": {
        "id": "d2iQq2jh6MmT"
      },
      "outputs": [],
      "source": []
    },
    {
      "cell_type": "code",
      "execution_count": null,
      "metadata": {
        "id": "2NIQg0UG6Mj5"
      },
      "outputs": [],
      "source": []
    },
    {
      "cell_type": "code",
      "execution_count": null,
      "metadata": {
        "id": "Xjcb4rqz6Mhm"
      },
      "outputs": [],
      "source": []
    },
    {
      "cell_type": "code",
      "execution_count": null,
      "metadata": {
        "id": "a9gzP9dy6MfL"
      },
      "outputs": [],
      "source": []
    },
    {
      "cell_type": "code",
      "execution_count": null,
      "metadata": {
        "id": "5l-MmeCO6Mcj"
      },
      "outputs": [],
      "source": []
    }
  ],
  "metadata": {
    "colab": {
      "provenance": []
    },
    "kernelspec": {
      "display_name": "Python 3",
      "name": "python3"
    },
    "language_info": {
      "codemirror_mode": {
        "name": "ipython",
        "version": 3
      },
      "file_extension": ".py",
      "mimetype": "text/x-python",
      "name": "python",
      "nbconvert_exporter": "python",
      "pygments_lexer": "ipython3",
      "version": "3.12.0"
    }
  },
  "nbformat": 4,
  "nbformat_minor": 0
}
